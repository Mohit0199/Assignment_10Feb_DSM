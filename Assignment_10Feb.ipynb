{
 "cells": [
  {
   "cell_type": "code",
   "execution_count": 1,
   "id": "dbc4bba7-04cc-4346-a27d-c83fdd4a6bf0",
   "metadata": {},
   "outputs": [],
   "source": [
    "# Q1. Which function is used to open a file? What are the different modes of opening a file? Explain each mode \n",
    "# of file opening.\n",
    "\n",
    "## open() function is used to open a file.\n",
    "## There are different modes for opening a file.\n",
    "## w mode - to  write in file. It will create a new file if file name provided is not exist and it will remove all\n",
    "## from existing file.\n",
    "## a mode - append mode to append data at end of a file\n",
    "## r mode - to read data from file.\n",
    "## r+ mode - for reading and writing in file.\n",
    "## w+ mode - for writing and reading file.\n",
    "## a+ mode - for appending and reading from file."
   ]
  },
  {
   "cell_type": "code",
   "execution_count": 2,
   "id": "8b95a67b-b3e5-42b6-886c-f68693138758",
   "metadata": {},
   "outputs": [],
   "source": [
    "# Q2. Why close() function is used? Why is it important to close a file?\n",
    "\n",
    "## close() function is used to close the file.\n",
    "## It is important because for proper resource management, data integrity, program consistency,\n",
    "## and overall system performance. It's a best practice to always close files after you've finished\n",
    "## working with them to avoid potential issues."
   ]
  },
  {
   "cell_type": "code",
   "execution_count": 3,
   "id": "a7936706-f52b-4d3a-b67c-9704549b259e",
   "metadata": {},
   "outputs": [
    {
     "name": "stdout",
     "output_type": "stream",
     "text": [
      "I want to become a Data Scientist\n"
     ]
    }
   ],
   "source": [
    "# Q3. Write a python program to create a text file. Write ‘I want to become a Data Scientist’ in that file. Then \n",
    "# close the file. Open this file and read the content of the file. \n",
    "\n",
    "f = open(\"sample.txt\", 'w')\n",
    "f.write(\"I want to become a Data Scientist\")\n",
    "f.close()\n",
    "\n",
    "f = open(\"sample.txt\", \"r\")\n",
    "data = f.read()\n",
    "print(data)\n",
    "f.close()"
   ]
  },
  {
   "cell_type": "code",
   "execution_count": 4,
   "id": "4aa78951-39fc-4438-bf10-17e85d1d9c96",
   "metadata": {},
   "outputs": [],
   "source": [
    "# Q4. Explain the following with python code: read(), readline() and readlines().\n",
    "\n",
    "## read() - This method reads the entire contents of the file and returns it as a single string.\n",
    "## readline() - This method reads a single line from the file and returns it as a string.\n",
    "## Each time you call readline(),it reads the next line in the file.\n",
    "## readlines() - This method reads all lines from the file and returns them as a list of strings,\n",
    "## where each string represents a single line from the file."
   ]
  },
  {
   "cell_type": "code",
   "execution_count": 5,
   "id": "9b1bb218-f44f-43d8-b79b-427747c12cfb",
   "metadata": {},
   "outputs": [],
   "source": [
    "# Q5. Explain why with statement is used with open(). What is the advantage of using with statement and \n",
    "# open() together?\n",
    "\n",
    "## The with statement in Python is used to create a context manager.\n",
    "## When used with file handling, particularly with the open() function,\n",
    "## it ensures proper handling of resources by automatically closing the file when the block\n",
    "## of code inside the with statement is exited.\n",
    "## using the with statement with the open() function provides automatic resource management,\n",
    "## cleaner code, and exception safety, making it the preferred way to handle files in Python."
   ]
  },
  {
   "cell_type": "code",
   "execution_count": 6,
   "id": "a64b17da-9ca1-458a-bc19-956ddad440ea",
   "metadata": {},
   "outputs": [],
   "source": [
    "# Q6. Explain the write() and writelines() functions. Give a suitable example\n",
    "\n",
    "## The write() function is used to write a string to the file.\n",
    "## It takes a single argument, which is the string that we want to write to the file.\n",
    "## The writelines() function is used to write a sequence of strings to the file.\n",
    "## It takes an iterable (such as a list, tuple, or generator) of strings as input.\n",
    "## It writes each string from the iterable to the file without adding any separator or newline character between them.\n",
    "\n",
    "# Example using write() function\n",
    "with open(\"example.txt\", \"w\") as f:\n",
    "    f.write(\"This is line 1\\n\")\n",
    "    f.write(\"This is line 2\\n\")\n",
    "    f.write(\"This is line 3\\n\")\n",
    "\n",
    "# Example using writelines() function\n",
    "lines = [\"This is line 1\\n\", \"This is line 2\\n\", \"This is line 3\\n\"]\n",
    "with open(\"example1.txt\", \"w\") as f:\n",
    "    f.writelines(lines)"
   ]
  },
  {
   "cell_type": "code",
   "execution_count": null,
   "id": "6fb6ab90-3f43-4598-ab04-3df84a8f5080",
   "metadata": {},
   "outputs": [],
   "source": []
  },
  {
   "cell_type": "code",
   "execution_count": null,
   "id": "ff0d0dcf-1abc-49c6-8ea9-7f079cefb612",
   "metadata": {},
   "outputs": [],
   "source": []
  }
 ],
 "metadata": {
  "kernelspec": {
   "display_name": "Python 3 (ipykernel)",
   "language": "python",
   "name": "python3"
  },
  "language_info": {
   "codemirror_mode": {
    "name": "ipython",
    "version": 3
   },
   "file_extension": ".py",
   "mimetype": "text/x-python",
   "name": "python",
   "nbconvert_exporter": "python",
   "pygments_lexer": "ipython3",
   "version": "3.10.8"
  }
 },
 "nbformat": 4,
 "nbformat_minor": 5
}
